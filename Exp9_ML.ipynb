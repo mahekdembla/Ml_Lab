{
  "nbformat": 4,
  "nbformat_minor": 0,
  "metadata": {
    "colab": {
      "provenance": []
    },
    "kernelspec": {
      "name": "python3",
      "display_name": "Python 3"
    },
    "language_info": {
      "name": "python"
    }
  },
  "cells": [
    {
      "cell_type": "code",
      "execution_count": 1,
      "metadata": {
        "colab": {
          "base_uri": "https://localhost:8080/"
        },
        "id": "4gSHNlKXvRzH",
        "outputId": "bc906bef-a104-46ba-e6c9-9f46ceb1c4d5"
      },
      "outputs": [
        {
          "output_type": "stream",
          "name": "stdout",
          "text": [
            "Epoch 0  Loss: 0.2801\n",
            "Epoch 1000  Loss: 0.1156\n",
            "Epoch 2000  Loss: 0.0038\n",
            "Epoch 3000  Loss: 0.0017\n",
            "Epoch 4000  Loss: 0.0010\n",
            "\n",
            "Final Output after training:\n",
            "[[0.02974042]\n",
            " [0.97388839]\n",
            " [0.97395566]\n",
            " [0.02730457]]\n"
          ]
        }
      ],
      "source": [
        "import numpy as np\n",
        "\n",
        "# Sigmoid activation and derivative\n",
        "def sigmoid(x):\n",
        "    return 1 / (1 + np.exp(-x))\n",
        "\n",
        "def sigmoid_derivative(x):\n",
        "    return x * (1 - x)\n",
        "\n",
        "# Input and output for XOR function\n",
        "X = np.array([[0,0], [0,1], [1,0], [1,1]])\n",
        "y = np.array([[0], [1], [1], [0]])\n",
        "\n",
        "np.random.seed(1)\n",
        "W1 = np.random.rand(2, 2)     # 2 inputs → 2 hidden neurons\n",
        "b1 = np.random.rand(1, 2)\n",
        "W2 = np.random.rand(2, 1)     # 2 hidden → 1 output\n",
        "b2 = np.random.rand(1, 1)\n",
        "\n",
        "lr = 0.5\n",
        "epochs = 5000\n",
        "\n",
        "for epoch in range(epochs):\n",
        "    # ---- Forward Propagation ----\n",
        "    z1 = np.dot(X, W1) + b1       # hidden layer input\n",
        "    a1 = sigmoid(z1)              # hidden layer output\n",
        "    z2 = np.dot(a1, W2) + b2      # output layer input\n",
        "    a2 = sigmoid(z2)              # final output\n",
        "\n",
        "    # ---- Backpropagation ----\n",
        "    error = y - a2\n",
        "    d_a2 = error * sigmoid_derivative(a2)\n",
        "\n",
        "    d_a1 = d_a2.dot(W2.T) * sigmoid_derivative(a1)\n",
        "\n",
        "    # ---- Update Weights ----\n",
        "    W2 += lr * a1.T.dot(d_a2)\n",
        "    b2 += lr * np.sum(d_a2, axis=0, keepdims=True)\n",
        "    W1 += lr * X.T.dot(d_a1)\n",
        "    b1 += lr * np.sum(d_a1, axis=0, keepdims=True)\n",
        "\n",
        "    # Print progress occasionally\n",
        "    if epoch % 1000 == 0:\n",
        "        loss = np.mean(np.square(error))\n",
        "        print(f\"Epoch {epoch}  Loss: {loss:.4f}\")\n",
        "\n",
        "print(\"\\nFinal Output after training:\")\n",
        "print(a2)\n"
      ]
    }
  ]
}