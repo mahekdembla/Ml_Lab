{
  "nbformat": 4,
  "nbformat_minor": 0,
  "metadata": {
    "colab": {
      "provenance": []
    },
    "kernelspec": {
      "name": "python3",
      "display_name": "Python 3"
    },
    "language_info": {
      "name": "python"
    }
  },
  "cells": [
    {
      "cell_type": "code",
      "execution_count": 1,
      "metadata": {
        "colab": {
          "base_uri": "https://localhost:8080/"
        },
        "id": "Dc7vzW5GtOMq",
        "outputId": "c1907358-780c-493a-82c9-fac94af2ae98"
      },
      "outputs": [
        {
          "output_type": "stream",
          "name": "stdout",
          "text": [
            "\n",
            "AND Gate:\n",
            "Weights: [1 1]  Bias: -1.5\n",
            "Input  Output\n",
            "[0 0]  →  0\n",
            "[0 1]  →  0\n",
            "[1 0]  →  0\n",
            "[1 1]  →  1\n",
            "\n",
            "OR Gate:\n",
            "Weights: [1 1]  Bias: -0.5\n",
            "Input  Output\n",
            "[0 0]  →  0\n",
            "[0 1]  →  1\n",
            "[1 0]  →  1\n",
            "[1 1]  →  1\n",
            "\n",
            "NAND Gate:\n",
            "Weights: [-1 -1]  Bias: 1.5\n",
            "Input  Output\n",
            "[0 0]  →  1\n",
            "[0 1]  →  1\n",
            "[1 0]  →  1\n",
            "[1 1]  →  0\n"
          ]
        }
      ],
      "source": [
        "import numpy as np\n",
        "\n",
        "# Step activation function\n",
        "def step(x):\n",
        "    return (x > 0).astype(int)\n",
        "\n",
        "# Input combinations for logic gates\n",
        "X = np.array([[0,0], [0,1], [1,0], [1,1]])\n",
        "\n",
        "# Define weights and bias for each gate\n",
        "gates = {\n",
        "    'AND':  {'w': np.array([1, 1]),  'b': -1.5},\n",
        "    'OR':   {'w': np.array([1, 1]),  'b': -0.5},\n",
        "    'NAND': {'w': np.array([-1, -1]), 'b': 1.5}\n",
        "}\n",
        "\n",
        "# Loop through each gate and calculate outputs\n",
        "for name, params in gates.items():\n",
        "    w = params['w']\n",
        "    b = params['b']\n",
        "    # Linear combination\n",
        "    z = np.dot(X, w) + b\n",
        "    # Apply step activation\n",
        "    y = step(z)\n",
        "    print(f\"\\n{name} Gate:\")\n",
        "    print(\"Weights:\", w, \" Bias:\", b)\n",
        "    print(\"Input  Output\")\n",
        "    for i in range(len(X)):\n",
        "        print(f\"{X[i]}  →  {y[i]}\")\n"
      ]
    }
  ]
}