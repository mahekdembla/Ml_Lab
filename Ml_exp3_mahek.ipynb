{
  "nbformat": 4,
  "nbformat_minor": 0,
  "metadata": {
    "colab": {
      "provenance": []
    },
    "kernelspec": {
      "name": "python3",
      "display_name": "Python 3"
    },
    "language_info": {
      "name": "python"
    }
  },
  "cells": [
    {
      "cell_type": "code",
      "execution_count": 1,
      "metadata": {
        "colab": {
          "base_uri": "https://localhost:8080/"
        },
        "id": "L5kfQgmW18WH",
        "outputId": "5075860d-c3ef-456d-dcbc-e0acb16bf448"
      },
      "outputs": [
        {
          "output_type": "stream",
          "name": "stdout",
          "text": [
            "Predictions: [ 8.65046873 13.03719853]\n"
          ]
        }
      ],
      "source": [
        "import numpy as np\n",
        "\n",
        "class RidgeRegression:\n",
        "    def __init__(self, learning_rate=0.01, n_iters=1000, reg_lambda=0.1):\n",
        "        self.learning_rate = learning_rate\n",
        "        self.n_iters = n_iters\n",
        "        self.reg_lambda = reg_lambda\n",
        "        self.weights = None\n",
        "        self.bias = None\n",
        "\n",
        "    def fit(self, X, y):\n",
        "        n_samples, n_features = X.shape\n",
        "\n",
        "        # Initialize parameters\n",
        "        self.weights = np.zeros(n_features)\n",
        "        self.bias = 0\n",
        "\n",
        "        for _ in range(self.n_iters):\n",
        "            # Predictions\n",
        "            y_pred = np.dot(X, self.weights) + self.bias\n",
        "\n",
        "            # Calculate gradients\n",
        "            dw = (1 / n_samples) * (np.dot(X.T, (y_pred - y)) + self.reg_lambda * self.weights)\n",
        "            db = (1 / n_samples) * np.sum(y_pred - y)\n",
        "\n",
        "            # Update parameters\n",
        "            self.weights -= self.learning_rate * dw\n",
        "            self.bias -= self.learning_rate * db\n",
        "\n",
        "    def predict(self, X):\n",
        "        return np.dot(X, self.weights) + self.bias\n",
        "\n",
        "\n",
        "# Example usage:\n",
        "if __name__ == \"__main__\":\n",
        "    # Generate some sample data\n",
        "    np.random.seed(0)\n",
        "    X = 2 * np.random.rand(100, 1)\n",
        "    y = 4 + 3 * X.flatten() + np.random.randn(100)\n",
        "\n",
        "    # Fit Ridge Regression model\n",
        "    model = RidgeRegression(learning_rate=0.1, n_iters=1000, reg_lambda=0.5)\n",
        "    model.fit(X, y)\n",
        "\n",
        "    # Make predictions\n",
        "    X_test = np.array([[1.5], [3.0]])\n",
        "    predictions = model.predict(X_test)\n",
        "    print(\"Predictions:\", predictions)\n"
      ]
    }
  ]
}