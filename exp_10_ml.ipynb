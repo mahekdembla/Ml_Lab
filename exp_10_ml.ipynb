{
  "nbformat": 4,
  "nbformat_minor": 0,
  "metadata": {
    "colab": {
      "provenance": []
    },
    "kernelspec": {
      "name": "python3",
      "display_name": "Python 3"
    },
    "language_info": {
      "name": "python"
    }
  },
  "cells": [
    {
      "cell_type": "code",
      "execution_count": 2,
      "metadata": {
        "colab": {
          "base_uri": "https://localhost:8080/"
        },
        "id": "8hk2BaXnxilj",
        "outputId": "78fa1e47-2a23-437f-fd2d-5dcdee20c849"
      },
      "outputs": [
        {
          "output_type": "stream",
          "name": "stdout",
          "text": [
            "=== Training Data ===\n",
            "Inputs:\n",
            "[[1 0 1]\n",
            " [0 1 0]\n",
            " [1 1 0]\n",
            " [0 0 1]]\n",
            "Target Outputs:\n",
            "[[1 0]\n",
            " [0 1]\n",
            " [1 0]\n",
            " [0 1]]\n",
            "\n",
            "=== Learned Weights ===\n",
            "[[2. 1. 1.]\n",
            " [0. 1. 1.]]\n",
            "\n",
            "=== Predictions on Training Data ===\n",
            "Input: [1 0 1]\n",
            "Target Output: [1 0]\n",
            "Predicted Output (raw): [3. 1.]\n",
            "Predicted Output (binary): [1 1]\n",
            "Match Target? False\n",
            "------------------------------\n",
            "Input: [0 1 0]\n",
            "Target Output: [0 1]\n",
            "Predicted Output (raw): [1. 1.]\n",
            "Predicted Output (binary): [1 1]\n",
            "Match Target? False\n",
            "------------------------------\n",
            "Input: [1 1 0]\n",
            "Target Output: [1 0]\n",
            "Predicted Output (raw): [3. 1.]\n",
            "Predicted Output (binary): [1 1]\n",
            "Match Target? False\n",
            "------------------------------\n",
            "Input: [0 0 1]\n",
            "Target Output: [0 1]\n",
            "Predicted Output (raw): [1. 1.]\n",
            "Predicted Output (binary): [1 1]\n",
            "Match Target? False\n",
            "------------------------------\n"
          ]
        }
      ],
      "source": [
        "import numpy as np\n",
        "\n",
        "class HebbianLearning:\n",
        "    def __init__(self, input_size, output_size, learning_rate=0.1):\n",
        "        self.weights = np.zeros((output_size, input_size))\n",
        "        self.learning_rate = learning_rate\n",
        "\n",
        "    def train(self, inputs, outputs, epochs=1):\n",
        "        for epoch in range(epochs):\n",
        "            for x, y in zip(inputs, outputs):\n",
        "                delta_w = self.learning_rate * np.outer(y, x)\n",
        "                self.weights += delta_w\n",
        "\n",
        "    def predict(self, x):\n",
        "        return np.dot(self.weights, x)\n",
        "\n",
        "if __name__ == \"__main__\":\n",
        "    # Define training inputs (4 samples, 3 features)\n",
        "    inputs = np.array([[1, 0, 1],\n",
        "                       [0, 1, 0],\n",
        "                       [1, 1, 0],\n",
        "                       [0, 0, 1]])\n",
        "\n",
        "    # Define target outputs (4 samples, 2 output neurons)\n",
        "    outputs = np.array([[1, 0],\n",
        "                        [0, 1],\n",
        "                        [1, 0],\n",
        "                        [0, 1]])\n",
        "\n",
        "    print(\"=== Training Data ===\")\n",
        "    print(\"Inputs:\")\n",
        "    print(inputs)\n",
        "    print(\"Target Outputs:\")\n",
        "    print(outputs)\n",
        "\n",
        "    # Initialize Hebbian model\n",
        "    model = HebbianLearning(input_size=3, output_size=2, learning_rate=0.1)\n",
        "\n",
        "    # Train the model\n",
        "    model.train(inputs, outputs, epochs=10)\n",
        "\n",
        "    print(\"\\n=== Learned Weights ===\")\n",
        "    print(model.weights)\n",
        "\n",
        "    print(\"\\n=== Predictions on Training Data ===\")\n",
        "    for i, x in enumerate(inputs):\n",
        "        predicted = model.predict(x)\n",
        "        target = outputs[i]\n",
        "\n",
        "        # Because outputs can be continuous values, apply a simple threshold to get predicted class (0 or 1)\n",
        "        predicted_binary = (predicted > 0.5).astype(int)\n",
        "\n",
        "        print(f\"Input: {x}\")\n",
        "        print(f\"Target Output: {target}\")\n",
        "        print(f\"Predicted Output (raw): {predicted}\")\n",
        "        print(f\"Predicted Output (binary): {predicted_binary}\")\n",
        "        print(f\"Match Target? {np.array_equal(predicted_binary, target)}\")\n",
        "        print(\"-\" * 30)\n"
      ]
    }
  ]
}